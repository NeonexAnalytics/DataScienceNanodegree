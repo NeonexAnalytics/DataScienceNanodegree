{
 "cells": [
  {
   "cell_type": "markdown",
   "metadata": {},
   "source": [
    "# Sparkify Project Workspace\n",
    "This workspace contains a tiny subset (128MB) of the full dataset available (12GB). Feel free to use this workspace to build your project, or to explore a smaller subset with Spark before deploying your cluster on the cloud. Instructions for setting up your Spark cluster is included in the last lesson of the Extracurricular Spark Course content.\n",
    "\n",
    "You can follow the steps below to guide your data analysis and model building portion of this project."
   ]
  },
  {
   "cell_type": "code",
   "execution_count": 74,
   "metadata": {},
   "outputs": [],
   "source": [
    "# import libraries\n",
    "from pyspark import SparkContext, SparkConf\n",
    "\n",
    "\n",
    "from pyspark.sql import SparkSession\n",
    "from pyspark.sql.functions import udf, datediff, \n",
    "from pyspark.sql.types import StringType\n",
    "from pyspark.sql.types import IntegerType\n",
    "from pyspark.sql.functions import desc\n",
    "from pyspark.sql.functions import asc\n",
    "from pyspark.sql.functions import sum as Fsum\n",
    "\n",
    "import datetime\n",
    "\n",
    "import numpy as np\n",
    "import pandas as pd\n",
    "%matplotlib inline\n",
    "import matplotlib.pyplot as plt\n",
    "import seaborn as sns"
   ]
  },
  {
   "cell_type": "code",
   "execution_count": 3,
   "metadata": {},
   "outputs": [],
   "source": [
    "# create a Spark session\n",
    "spark = SparkSession.builder \\\n",
    "    .master(\"local\") \\\n",
    "    .appName(\"Creating Features\") \\\n",
    "    .getOrCreate()\n",
    "\n",
    "data = \"mini_sparkify_event_data.json\"\n",
    "\n"
   ]
  },
  {
   "cell_type": "code",
   "execution_count": 4,
   "metadata": {},
   "outputs": [
    {
     "data": {
      "text/html": [
       "\n",
       "            <div>\n",
       "                <p><b>SparkSession - in-memory</b></p>\n",
       "                \n",
       "        <div>\n",
       "            <p><b>SparkContext</b></p>\n",
       "\n",
       "            <p><a href=\"http://c7c7753340a3:4040\">Spark UI</a></p>\n",
       "\n",
       "            <dl>\n",
       "              <dt>Version</dt>\n",
       "                <dd><code>v2.4.3</code></dd>\n",
       "              <dt>Master</dt>\n",
       "                <dd><code>local</code></dd>\n",
       "              <dt>AppName</dt>\n",
       "                <dd><code>Creating Features</code></dd>\n",
       "            </dl>\n",
       "        </div>\n",
       "        \n",
       "            </div>\n",
       "        "
      ],
      "text/plain": [
       "<pyspark.sql.session.SparkSession at 0x7f6d0c3eebe0>"
      ]
     },
     "execution_count": 4,
     "metadata": {},
     "output_type": "execute_result"
    }
   ],
   "source": [
    "spark"
   ]
  },
  {
   "cell_type": "markdown",
   "metadata": {},
   "source": [
    "# Load and Clean Dataset\n",
    "In this workspace, the mini-dataset file is `mini_sparkify_event_data.json`. Load and clean the dataset, checking for invalid or missing data - for example, records without userids or sessionids. "
   ]
  },
  {
   "cell_type": "code",
   "execution_count": 5,
   "metadata": {},
   "outputs": [],
   "source": [
    "#Load data\n",
    "event_data = spark.read.json(data)"
   ]
  },
  {
   "cell_type": "code",
   "execution_count": 45,
   "metadata": {},
   "outputs": [
    {
     "name": "stdout",
     "output_type": "stream",
     "text": [
      "root\n",
      " |-- artist: string (nullable = true)\n",
      " |-- auth: string (nullable = true)\n",
      " |-- firstName: string (nullable = true)\n",
      " |-- gender: string (nullable = true)\n",
      " |-- itemInSession: long (nullable = true)\n",
      " |-- lastName: string (nullable = true)\n",
      " |-- length: double (nullable = true)\n",
      " |-- level: string (nullable = true)\n",
      " |-- location: string (nullable = true)\n",
      " |-- method: string (nullable = true)\n",
      " |-- page: string (nullable = true)\n",
      " |-- registration: long (nullable = true)\n",
      " |-- sessionId: long (nullable = true)\n",
      " |-- song: string (nullable = true)\n",
      " |-- status: long (nullable = true)\n",
      " |-- ts: long (nullable = true)\n",
      " |-- userAgent: string (nullable = true)\n",
      " |-- userId: string (nullable = true)\n",
      "\n"
     ]
    }
   ],
   "source": [
    "#Check schema\n",
    "event_data.printSchema()"
   ]
  },
  {
   "cell_type": "code",
   "execution_count": 7,
   "metadata": {},
   "outputs": [
    {
     "name": "stdout",
     "output_type": "stream",
     "text": [
      "+--------------+---------+---------+------+-------------+--------+---------+-----+---------------+------+--------+-------------+---------+---------+------+-------------+--------------------+------+\n",
      "|        artist|     auth|firstName|gender|itemInSession|lastName|   length|level|       location|method|    page| registration|sessionId|     song|status|           ts|           userAgent|userId|\n",
      "+--------------+---------+---------+------+-------------+--------+---------+-----+---------------+------+--------+-------------+---------+---------+------+-------------+--------------------+------+\n",
      "|Martha Tilston|Logged In|    Colin|     M|           50| Freeman|277.89016| paid|Bakersfield, CA|   PUT|NextSong|1538173362000|       29|Rockpools|   200|1538352117000|Mozilla/5.0 (Wind...|    30|\n",
      "+--------------+---------+---------+------+-------------+--------+---------+-----+---------------+------+--------+-------------+---------+---------+------+-------------+--------------------+------+\n",
      "only showing top 1 row\n",
      "\n"
     ]
    }
   ],
   "source": [
    "#Check data entries\n",
    "event_data.show(n=1)"
   ]
  },
  {
   "cell_type": "code",
   "execution_count": 8,
   "metadata": {},
   "outputs": [
    {
     "data": {
      "text/plain": [
       "{'artist': 58392,\n",
       " 'auth': 0,\n",
       " 'firstName': 8346,\n",
       " 'gender': 8346,\n",
       " 'itemInSession': 0,\n",
       " 'lastName': 8346,\n",
       " 'length': 58392,\n",
       " 'level': 0,\n",
       " 'location': 8346,\n",
       " 'method': 0,\n",
       " 'page': 0,\n",
       " 'registration': 8346,\n",
       " 'sessionId': 0,\n",
       " 'song': 58392,\n",
       " 'status': 0,\n",
       " 'ts': 0,\n",
       " 'userAgent': 8346,\n",
       " 'userId': 0}"
      ]
     },
     "execution_count": 8,
     "metadata": {},
     "output_type": "execute_result"
    }
   ],
   "source": [
    "#Checking for invalid or missing data with focus on userID and sessionID\n",
    "#Check for NAN values in all columns\n",
    "\n",
    "nan_dict = dict()\n",
    "for col in event_data.columns:\n",
    "    nan_dict[col] = event_data.filter(event_data[col].isNull()).count()\n",
    "    \n",
    "nan_dict"
   ]
  },
  {
   "cell_type": "code",
   "execution_count": 18,
   "metadata": {},
   "outputs": [],
   "source": [
    "#There are no nan values in userID or sessionID. \n",
    "#But we find a hughe amount of nan values in the other columns. Especially in the artists column"
   ]
  },
  {
   "cell_type": "code",
   "execution_count": 9,
   "metadata": {},
   "outputs": [
    {
     "data": {
      "text/plain": [
       "{'artist': 0,\n",
       " 'auth': 0,\n",
       " 'firstName': 0,\n",
       " 'gender': 0,\n",
       " 'itemInSession': 0,\n",
       " 'lastName': 0,\n",
       " 'length': 0,\n",
       " 'level': 0,\n",
       " 'location': 0,\n",
       " 'method': 0,\n",
       " 'page': 0,\n",
       " 'registration': 0,\n",
       " 'sessionId': 0,\n",
       " 'song': 0,\n",
       " 'status': 0,\n",
       " 'ts': 0,\n",
       " 'userAgent': 0,\n",
       " 'userId': 8346}"
      ]
     },
     "execution_count": 9,
     "metadata": {},
     "output_type": "execute_result"
    }
   ],
   "source": [
    "#Check for emptie user entries\n",
    "\n",
    "empty_dict = dict()\n",
    "\n",
    "for col in event_data.columns:\n",
    "    empty_dict[col] = event_data.filter(event_data[col]==\"\").count()\n",
    "empty_dict"
   ]
  },
  {
   "cell_type": "code",
   "execution_count": null,
   "metadata": {},
   "outputs": [],
   "source": [
    "#Many entries with no userID / no missing entires in session ID"
   ]
  },
  {
   "cell_type": "code",
   "execution_count": null,
   "metadata": {},
   "outputs": [],
   "source": [
    "#Strategy is to remove all rows with no userID "
   ]
  },
  {
   "cell_type": "code",
   "execution_count": 10,
   "metadata": {},
   "outputs": [],
   "source": [
    "data_clean = event_data.filter(event_data[\"userId\"]!=\"\")"
   ]
  },
  {
   "cell_type": "code",
   "execution_count": 11,
   "metadata": {},
   "outputs": [
    {
     "data": {
      "text/plain": [
       "{'artist': 0,\n",
       " 'auth': 0,\n",
       " 'firstName': 0,\n",
       " 'gender': 0,\n",
       " 'itemInSession': 0,\n",
       " 'lastName': 0,\n",
       " 'length': 0,\n",
       " 'level': 0,\n",
       " 'location': 0,\n",
       " 'method': 0,\n",
       " 'page': 0,\n",
       " 'registration': 0,\n",
       " 'sessionId': 0,\n",
       " 'song': 0,\n",
       " 'status': 0,\n",
       " 'ts': 0,\n",
       " 'userAgent': 0,\n",
       " 'userId': 0}"
      ]
     },
     "execution_count": 11,
     "metadata": {},
     "output_type": "execute_result"
    }
   ],
   "source": [
    "empty_dict = dict()\n",
    "\n",
    "for col in data_clean.columns:\n",
    "    empty_dict[col] = data_clean.filter(data_clean[col]==\"\").count()\n",
    "empty_dict"
   ]
  },
  {
   "cell_type": "code",
   "execution_count": 12,
   "metadata": {},
   "outputs": [
    {
     "data": {
      "text/plain": [
       "{'artist': 50046,\n",
       " 'auth': 0,\n",
       " 'firstName': 0,\n",
       " 'gender': 0,\n",
       " 'itemInSession': 0,\n",
       " 'lastName': 0,\n",
       " 'length': 50046,\n",
       " 'level': 0,\n",
       " 'location': 0,\n",
       " 'method': 0,\n",
       " 'page': 0,\n",
       " 'registration': 0,\n",
       " 'sessionId': 0,\n",
       " 'song': 50046,\n",
       " 'status': 0,\n",
       " 'ts': 0,\n",
       " 'userAgent': 0,\n",
       " 'userId': 0}"
      ]
     },
     "execution_count": 12,
     "metadata": {},
     "output_type": "execute_result"
    }
   ],
   "source": [
    "nan_dict = dict()\n",
    "for col in data_clean.columns:\n",
    "    nan_dict[col] = data_clean.filter(data_clean[col].isNull()).count()\n",
    "    \n",
    "nan_dict"
   ]
  },
  {
   "cell_type": "code",
   "execution_count": null,
   "metadata": {},
   "outputs": [],
   "source": [
    "#still 3 columns with siginificatn amount of nans (3 cols with ~20%of data missing)"
   ]
  },
  {
   "cell_type": "code",
   "execution_count": 53,
   "metadata": {},
   "outputs": [],
   "source": [
    "#Change ts and registration in date and time in string format from his unix apperance \n",
    "\n",
    "#Create user defined function \n",
    "#Convert unix timestamp in datetime format\n",
    "get_datetime = udf(lambda x: datetime.datetime.utcfromtimestamp(x/1000.0).strftime(\"%d.%m.%Y %H:%M:%S\"))\n",
    "\n",
    "data_clean = data_clean.withColumn(\"timestamp\", get_datetime(data_clean[\"ts\"]))"
   ]
  },
  {
   "cell_type": "code",
   "execution_count": 51,
   "metadata": {},
   "outputs": [
    {
     "name": "stdout",
     "output_type": "stream",
     "text": [
      "+-------+\n",
      "|summary|\n",
      "+-------+\n",
      "|  count|\n",
      "|   mean|\n",
      "| stddev|\n",
      "|    min|\n",
      "|    max|\n",
      "+-------+\n",
      "\n"
     ]
    }
   ],
   "source": [
    "data_clean.describe(\"timestamp\").show()"
   ]
  },
  {
   "cell_type": "code",
   "execution_count": 81,
   "metadata": {},
   "outputs": [
    {
     "data": {
      "text/html": [
       "<div>\n",
       "<style scoped>\n",
       "    .dataframe tbody tr th:only-of-type {\n",
       "        vertical-align: middle;\n",
       "    }\n",
       "\n",
       "    .dataframe tbody tr th {\n",
       "        vertical-align: top;\n",
       "    }\n",
       "\n",
       "    .dataframe thead th {\n",
       "        text-align: right;\n",
       "    }\n",
       "</style>\n",
       "<table border=\"1\" class=\"dataframe\">\n",
       "  <thead>\n",
       "    <tr style=\"text-align: right;\">\n",
       "      <th></th>\n",
       "      <th>artist</th>\n",
       "      <th>auth</th>\n",
       "      <th>firstName</th>\n",
       "      <th>gender</th>\n",
       "      <th>itemInSession</th>\n",
       "      <th>lastName</th>\n",
       "      <th>length</th>\n",
       "      <th>level</th>\n",
       "      <th>location</th>\n",
       "      <th>method</th>\n",
       "      <th>...</th>\n",
       "      <th>song</th>\n",
       "      <th>status</th>\n",
       "      <th>ts</th>\n",
       "      <th>userAgent</th>\n",
       "      <th>userId</th>\n",
       "      <th>timestamp</th>\n",
       "      <th>registationtime</th>\n",
       "      <th>membership_duration</th>\n",
       "      <th>churned</th>\n",
       "      <th>days_of_membership</th>\n",
       "    </tr>\n",
       "  </thead>\n",
       "  <tbody>\n",
       "    <tr>\n",
       "      <th>0</th>\n",
       "      <td>Martha Tilston</td>\n",
       "      <td>Logged In</td>\n",
       "      <td>Colin</td>\n",
       "      <td>M</td>\n",
       "      <td>50</td>\n",
       "      <td>Freeman</td>\n",
       "      <td>277.89016</td>\n",
       "      <td>paid</td>\n",
       "      <td>Bakersfield, CA</td>\n",
       "      <td>PUT</td>\n",
       "      <td>...</td>\n",
       "      <td>Rockpools</td>\n",
       "      <td>200</td>\n",
       "      <td>1538352117000</td>\n",
       "      <td>Mozilla/5.0 (Windows NT 6.1; WOW64; rv:31.0) G...</td>\n",
       "      <td>30</td>\n",
       "      <td>01.10.2018 00:01:57</td>\n",
       "      <td>28.09.2018 22:22:42</td>\n",
       "      <td>2</td>\n",
       "      <td>0</td>\n",
       "      <td>2</td>\n",
       "    </tr>\n",
       "    <tr>\n",
       "      <th>1</th>\n",
       "      <td>Five Iron Frenzy</td>\n",
       "      <td>Logged In</td>\n",
       "      <td>Micah</td>\n",
       "      <td>M</td>\n",
       "      <td>79</td>\n",
       "      <td>Long</td>\n",
       "      <td>236.09424</td>\n",
       "      <td>free</td>\n",
       "      <td>Boston-Cambridge-Newton, MA-NH</td>\n",
       "      <td>PUT</td>\n",
       "      <td>...</td>\n",
       "      <td>Canada</td>\n",
       "      <td>200</td>\n",
       "      <td>1538352180000</td>\n",
       "      <td>\"Mozilla/5.0 (Windows NT 6.1; WOW64) AppleWebK...</td>\n",
       "      <td>9</td>\n",
       "      <td>01.10.2018 00:03:00</td>\n",
       "      <td>30.09.2018 18:20:30</td>\n",
       "      <td>0</td>\n",
       "      <td>0</td>\n",
       "      <td>0</td>\n",
       "    </tr>\n",
       "  </tbody>\n",
       "</table>\n",
       "<p>2 rows × 23 columns</p>\n",
       "</div>"
      ],
      "text/plain": [
       "             artist       auth firstName gender  itemInSession lastName  \\\n",
       "0    Martha Tilston  Logged In     Colin      M             50  Freeman   \n",
       "1  Five Iron Frenzy  Logged In     Micah      M             79     Long   \n",
       "\n",
       "      length level                        location method        ...          \\\n",
       "0  277.89016  paid                 Bakersfield, CA    PUT        ...           \n",
       "1  236.09424  free  Boston-Cambridge-Newton, MA-NH    PUT        ...           \n",
       "\n",
       "        song  status             ts  \\\n",
       "0  Rockpools     200  1538352117000   \n",
       "1     Canada     200  1538352180000   \n",
       "\n",
       "                                           userAgent  userId  \\\n",
       "0  Mozilla/5.0 (Windows NT 6.1; WOW64; rv:31.0) G...      30   \n",
       "1  \"Mozilla/5.0 (Windows NT 6.1; WOW64) AppleWebK...       9   \n",
       "\n",
       "             timestamp      registationtime membership_duration churned  \\\n",
       "0  01.10.2018 00:01:57  28.09.2018 22:22:42                   2       0   \n",
       "1  01.10.2018 00:03:00  30.09.2018 18:20:30                   0       0   \n",
       "\n",
       "  days_of_membership  \n",
       "0                  2  \n",
       "1                  0  \n",
       "\n",
       "[2 rows x 23 columns]"
      ]
     },
     "execution_count": 81,
     "metadata": {},
     "output_type": "execute_result"
    }
   ],
   "source": [
    "data_clean.toPandas().head(2)"
   ]
  },
  {
   "cell_type": "code",
   "execution_count": 44,
   "metadata": {},
   "outputs": [],
   "source": [
    "#Do same for registration time\n",
    "data_clean = data_clean.withColumn(\"registationtime\", get_datetime(data_clean[\"registration\"]))"
   ]
  },
  {
   "cell_type": "code",
   "execution_count": 16,
   "metadata": {
    "scrolled": true
   },
   "outputs": [
    {
     "name": "stdout",
     "output_type": "stream",
     "text": [
      "+-------+-------------------+\n",
      "|summary|    registationtime|\n",
      "+-------+-------------------+\n",
      "|  count|             278154|\n",
      "|   mean|               null|\n",
      "| stddev|               null|\n",
      "|    min|01.08.2018 05:45:30|\n",
      "|    max|30.10.2018 23:03:28|\n",
      "+-------+-------------------+\n",
      "\n"
     ]
    }
   ],
   "source": [
    "data_clean.describe(\"registationtime\").show()"
   ]
  },
  {
   "cell_type": "code",
   "execution_count": 48,
   "metadata": {},
   "outputs": [
    {
     "name": "stdout",
     "output_type": "stream",
     "text": [
      "root\n",
      " |-- artist: string (nullable = true)\n",
      " |-- auth: string (nullable = true)\n",
      " |-- firstName: string (nullable = true)\n",
      " |-- gender: string (nullable = true)\n",
      " |-- itemInSession: long (nullable = true)\n",
      " |-- lastName: string (nullable = true)\n",
      " |-- length: double (nullable = true)\n",
      " |-- level: string (nullable = true)\n",
      " |-- location: string (nullable = true)\n",
      " |-- method: string (nullable = true)\n",
      " |-- page: string (nullable = true)\n",
      " |-- registration: long (nullable = true)\n",
      " |-- sessionId: long (nullable = true)\n",
      " |-- song: string (nullable = true)\n",
      " |-- status: long (nullable = true)\n",
      " |-- ts: long (nullable = true)\n",
      " |-- userAgent: string (nullable = true)\n",
      " |-- userId: string (nullable = true)\n",
      " |-- timestamp: string (nullable = true)\n",
      " |-- registationtime: string (nullable = true)\n",
      " |-- membership_duration: integer (nullable = true)\n",
      " |-- churned: integer (nullable = true)\n",
      "\n"
     ]
    }
   ],
   "source": [
    "data_clean.printSchema()"
   ]
  },
  {
   "cell_type": "code",
   "execution_count": 78,
   "metadata": {},
   "outputs": [],
   "source": [
    "# https://sparkbyexamples.com/pyspark/pyspark-difference-between-two-dates-days-months-years/\n",
    "#Calculate Datedif between registration and ts time\n",
    "###Not working????\n",
    "data_clean = data_clean.withColumn(\"membership_duration\", datediff(data_clean[\"registationtime\"], data_clean[\"timestamp\"]))"
   ]
  },
  {
   "cell_type": "code",
   "execution_count": 79,
   "metadata": {
    "scrolled": true
   },
   "outputs": [
    {
     "name": "stdout",
     "output_type": "stream",
     "text": [
      "+-------+-------------------+\n",
      "|summary|membership_duration|\n",
      "+-------+-------------------+\n",
      "|  count|                  0|\n",
      "|   mean|               null|\n",
      "| stddev|               null|\n",
      "|    min|               null|\n",
      "|    max|               null|\n",
      "+-------+-------------------+\n",
      "\n"
     ]
    }
   ],
   "source": [
    "data_clean.describe(\"membership_duration\").show()"
   ]
  },
  {
   "cell_type": "code",
   "execution_count": 80,
   "metadata": {},
   "outputs": [],
   "source": [
    "\n",
    "\n",
    "\n",
    "get_duration = udf(lambda start,end: float((start-end)/(1000*60*60*24)))\n",
    "\n",
    "# Apply the User Defined Function to the ts variable\n",
    "\n",
    "data_clean = data_clean.withColumn(\"membership_duration\", get_duration(data_clean[\"ts\"], data_clean[\"registration\"]))\n",
    "data_clean = data_clean.withColumn(\"membership_duration\", data_clean[\"membership_duration\"].cast(IntegerType()))\n",
    "\n"
   ]
  },
  {
   "cell_type": "code",
   "execution_count": 65,
   "metadata": {},
   "outputs": [
    {
     "data": {
      "text/plain": [
       "[('artist', 'string'),\n",
       " ('auth', 'string'),\n",
       " ('firstName', 'string'),\n",
       " ('gender', 'string'),\n",
       " ('itemInSession', 'bigint'),\n",
       " ('lastName', 'string'),\n",
       " ('length', 'double'),\n",
       " ('level', 'string'),\n",
       " ('location', 'string'),\n",
       " ('method', 'string'),\n",
       " ('page', 'string'),\n",
       " ('registration', 'bigint'),\n",
       " ('sessionId', 'bigint'),\n",
       " ('song', 'string'),\n",
       " ('status', 'bigint'),\n",
       " ('ts', 'bigint'),\n",
       " ('userAgent', 'string'),\n",
       " ('userId', 'string'),\n",
       " ('timestamp', 'string'),\n",
       " ('registationtime', 'string'),\n",
       " ('membership_duration', 'int'),\n",
       " ('churned', 'int')]"
      ]
     },
     "execution_count": 65,
     "metadata": {},
     "output_type": "execute_result"
    }
   ],
   "source": [
    "data_clean.dtypes"
   ]
  },
  {
   "cell_type": "code",
   "execution_count": 82,
   "metadata": {},
   "outputs": [],
   "source": [
    "# Update temporary view\n",
    "data_clean.createOrReplaceTempView(\"user_log_table\")"
   ]
  },
  {
   "cell_type": "code",
   "execution_count": 83,
   "metadata": {},
   "outputs": [],
   "source": [
    "df_days_of_membership = spark.sql('''\n",
    "        SELECT DISTINCT userId, MAX(membership_duration) AS duration_of_membership_in_days\n",
    "        FROM user_log_table\n",
    "        GROUP BY userId\n",
    "        \n",
    "        ''').toPandas().dropna()"
   ]
  },
  {
   "cell_type": "code",
   "execution_count": 84,
   "metadata": {},
   "outputs": [
    {
     "data": {
      "image/png": "[encoded data removed]",
      "text/plain": [
       "<matplotlib.figure.Figure at 0x7f6cbb395860>"
      ]
     },
     "metadata": {
      "needs_background": "light"
     },
     "output_type": "display_data"
    }
   ],
   "source": [
    "sns.distplot(df_days_of_membership.duration_of_membership_in_days);"
   ]
  },
  {
   "cell_type": "code",
   "execution_count": null,
   "metadata": {},
   "outputs": [],
   "source": []
  },
  {
   "cell_type": "markdown",
   "metadata": {},
   "source": [
    "# Exploratory Data Analysis\n",
    "When you're working with the full dataset, perform EDA by loading a small subset of the data and doing basic manipulations within Spark. In this workspace, you are already provided a small subset of data you can explore.\n",
    "\n",
    "### Define Churn\n",
    "\n",
    "Once you've done some preliminary analysis, create a column `Churn` to use as the label for your model. I suggest using the `Cancellation Confirmation` events to define your churn, which happen for both paid and free users. As a bonus task, you can also look into the `Downgrade` events.\n",
    "\n",
    "### Explore Data\n",
    "Once you've defined churn, perform some exploratory data analysis to observe the behavior for users who stayed vs users who churned. You can start by exploring aggregates on these two groups of users, observing how much of a specific action they experienced per a certain time unit or number of songs played."
   ]
  },
  {
   "cell_type": "code",
   "execution_count": 23,
   "metadata": {},
   "outputs": [],
   "source": [
    "# Create the view 'user_logs' or update this view if it already exists\n",
    "data_clean.createOrReplaceTempView(\"user_logs\")"
   ]
  },
  {
   "cell_type": "code",
   "execution_count": 24,
   "metadata": {},
   "outputs": [
    {
     "name": "stdout",
     "output_type": "stream",
     "text": [
      "+------+---------+---------+------+-------------+--------+---------+-----+---------------+------+--------+-------------+---------+-------------+------+-------------+--------------------+------+-------------------+-------------------+-------------------+\n",
      "|artist|     auth|firstName|gender|itemInSession|lastName|   length|level|       location|method|    page| registration|sessionId|         song|status|           ts|           userAgent|userId|          timestamp|    registationtime|membership_duration|\n",
      "+------+---------+---------+------+-------------+--------+---------+-----+---------------+------+--------+-------------+---------+-------------+------+-------------+--------------------+------+-------------------+-------------------+-------------------+\n",
      "| Campo|Logged In|  Ashlynn|     F|            4|Williams|429.50485| free|Tallahassee, FL|   PUT|NextSong|1537365219000|      217|Mi CorazÃÂ³n|   200|1538354598000|\"Mozilla/5.0 (Mac...|    74|01.10.2018 00:43:18|19.09.2018 13:53:39|               null|\n",
      "+------+---------+---------+------+-------------+--------+---------+-----+---------------+------+--------+-------------+---------+-------------+------+-------------+--------------------+------+-------------------+-------------------+-------------------+\n",
      "\n"
     ]
    }
   ],
   "source": [
    "spark.sql(\"\"\"\n",
    "    SELECT DISTINCT(*)\n",
    "    FROM user_logs\n",
    "    LIMIT 1\n",
    "\"\"\").show()"
   ]
  },
  {
   "cell_type": "code",
   "execution_count": 25,
   "metadata": {},
   "outputs": [
    {
     "name": "stdout",
     "output_type": "stream",
     "text": [
      "+--------------------+\n",
      "|                page|\n",
      "+--------------------+\n",
      "|               About|\n",
      "|          Add Friend|\n",
      "|     Add to Playlist|\n",
      "|              Cancel|\n",
      "|Cancellation Conf...|\n",
      "|           Downgrade|\n",
      "|               Error|\n",
      "|                Help|\n",
      "|                Home|\n",
      "|              Logout|\n",
      "|            NextSong|\n",
      "|         Roll Advert|\n",
      "|       Save Settings|\n",
      "|            Settings|\n",
      "|    Submit Downgrade|\n",
      "|      Submit Upgrade|\n",
      "|         Thumbs Down|\n",
      "|           Thumbs Up|\n",
      "|             Upgrade|\n",
      "+--------------------+\n",
      "\n"
     ]
    }
   ],
   "source": [
    "#Show all pages that user have visited at Sparkify\n",
    "\n",
    "spark.sql(\"\"\"\n",
    "          SELECT DISTINCT page\n",
    "          FROM user_logs\n",
    "          ORDER BY page ASC\n",
    "          \"\"\"\n",
    "          ).show()\n",
    "\n"
   ]
  },
  {
   "cell_type": "code",
   "execution_count": 26,
   "metadata": {},
   "outputs": [
    {
     "name": "stdout",
     "output_type": "stream",
     "text": [
      "+-----+-------------+\n",
      "|level|numberOfUsers|\n",
      "+-----+-------------+\n",
      "| free|          195|\n",
      "| paid|          165|\n",
      "+-----+-------------+\n",
      "\n"
     ]
    }
   ],
   "source": [
    "#See how many paid/free users we have in the dataset\n",
    "\n",
    "spark.sql(\"\"\"\n",
    "    SELECT level, COUNT(DISTINCT userID) as numberOfUsers\n",
    "    FROM user_logs\n",
    "    GROUP BY level\n",
    "    \"\"\").show()"
   ]
  },
  {
   "cell_type": "markdown",
   "metadata": {},
   "source": [
    "# Define Churn"
   ]
  },
  {
   "cell_type": "code",
   "execution_count": 27,
   "metadata": {},
   "outputs": [
    {
     "name": "stdout",
     "output_type": "stream",
     "text": [
      "+---------+-------------+\n",
      "|     auth|numberOfUsers|\n",
      "+---------+-------------+\n",
      "|Cancelled|           52|\n",
      "|Logged In|       278102|\n",
      "+---------+-------------+\n",
      "\n"
     ]
    }
   ],
   "source": [
    "#Do we know how many people cancelled their service\n",
    "\n",
    "spark.sql(\"\"\"\n",
    "    SELECT auth, COUNT(userID) as numberOfUsers\n",
    "    FROM user_logs\n",
    "    GROUP BY auth\"\"\").show()"
   ]
  },
  {
   "cell_type": "code",
   "execution_count": 28,
   "metadata": {},
   "outputs": [
    {
     "name": "stdout",
     "output_type": "stream",
     "text": [
      "+--------------------+-------------+\n",
      "|                page|numberOFUsers|\n",
      "+--------------------+-------------+\n",
      "|Cancellation Conf...|           52|\n",
      "+--------------------+-------------+\n",
      "\n"
     ]
    }
   ],
   "source": [
    "#HOw many user visited the site Cancelation Conf.?\n",
    "spark.sql(\"\"\"\n",
    "    SELECT page, COUNT(userID) as numberOFUsers\n",
    "    FROM user_logs\n",
    "    WHERE page ='Cancellation Confirmation'\n",
    "    GROUP BY page\"\"\").show()"
   ]
  },
  {
   "cell_type": "code",
   "execution_count": 29,
   "metadata": {},
   "outputs": [],
   "source": [
    "#Does the auth column show the flagg canelled for this 52 users?\n",
    "data_cancelled = spark.sql(\"\"\"\n",
    "    SELECT userID, auth, level, firstname, lastname, page\n",
    "    FROM user_logs\n",
    "    WHERE page = 'Cancellation Confirmation'\n",
    "    \"\"\").toPandas()"
   ]
  },
  {
   "cell_type": "code",
   "execution_count": 30,
   "metadata": {},
   "outputs": [
    {
     "data": {
      "text/html": [
       "<div>\n",
       "<style scoped>\n",
       "    .dataframe tbody tr th:only-of-type {\n",
       "        vertical-align: middle;\n",
       "    }\n",
       "\n",
       "    .dataframe tbody tr th {\n",
       "        vertical-align: top;\n",
       "    }\n",
       "\n",
       "    .dataframe thead th {\n",
       "        text-align: right;\n",
       "    }\n",
       "</style>\n",
       "<table border=\"1\" class=\"dataframe\">\n",
       "  <thead>\n",
       "    <tr style=\"text-align: right;\">\n",
       "      <th></th>\n",
       "      <th>userID</th>\n",
       "      <th>auth</th>\n",
       "      <th>level</th>\n",
       "      <th>firstname</th>\n",
       "      <th>lastname</th>\n",
       "      <th>page</th>\n",
       "    </tr>\n",
       "  </thead>\n",
       "  <tbody>\n",
       "    <tr>\n",
       "      <th>0</th>\n",
       "      <td>18</td>\n",
       "      <td>Cancelled</td>\n",
       "      <td>paid</td>\n",
       "      <td>Adriel</td>\n",
       "      <td>Mendoza</td>\n",
       "      <td>Cancellation Confirmation</td>\n",
       "    </tr>\n",
       "    <tr>\n",
       "      <th>1</th>\n",
       "      <td>32</td>\n",
       "      <td>Cancelled</td>\n",
       "      <td>paid</td>\n",
       "      <td>Diego</td>\n",
       "      <td>Mckee</td>\n",
       "      <td>Cancellation Confirmation</td>\n",
       "    </tr>\n",
       "    <tr>\n",
       "      <th>2</th>\n",
       "      <td>125</td>\n",
       "      <td>Cancelled</td>\n",
       "      <td>free</td>\n",
       "      <td>Mason</td>\n",
       "      <td>Hart</td>\n",
       "      <td>Cancellation Confirmation</td>\n",
       "    </tr>\n",
       "    <tr>\n",
       "      <th>3</th>\n",
       "      <td>105</td>\n",
       "      <td>Cancelled</td>\n",
       "      <td>paid</td>\n",
       "      <td>Alexander</td>\n",
       "      <td>Garcia</td>\n",
       "      <td>Cancellation Confirmation</td>\n",
       "    </tr>\n",
       "    <tr>\n",
       "      <th>4</th>\n",
       "      <td>17</td>\n",
       "      <td>Cancelled</td>\n",
       "      <td>paid</td>\n",
       "      <td>Kayla</td>\n",
       "      <td>Johnson</td>\n",
       "      <td>Cancellation Confirmation</td>\n",
       "    </tr>\n",
       "    <tr>\n",
       "      <th>5</th>\n",
       "      <td>143</td>\n",
       "      <td>Cancelled</td>\n",
       "      <td>free</td>\n",
       "      <td>Molly</td>\n",
       "      <td>Harrison</td>\n",
       "      <td>Cancellation Confirmation</td>\n",
       "    </tr>\n",
       "    <tr>\n",
       "      <th>6</th>\n",
       "      <td>101</td>\n",
       "      <td>Cancelled</td>\n",
       "      <td>paid</td>\n",
       "      <td>Alex</td>\n",
       "      <td>Hogan</td>\n",
       "      <td>Cancellation Confirmation</td>\n",
       "    </tr>\n",
       "    <tr>\n",
       "      <th>7</th>\n",
       "      <td>129</td>\n",
       "      <td>Cancelled</td>\n",
       "      <td>paid</td>\n",
       "      <td>Davis</td>\n",
       "      <td>Wang</td>\n",
       "      <td>Cancellation Confirmation</td>\n",
       "    </tr>\n",
       "    <tr>\n",
       "      <th>8</th>\n",
       "      <td>121</td>\n",
       "      <td>Cancelled</td>\n",
       "      <td>paid</td>\n",
       "      <td>Nikolas</td>\n",
       "      <td>Olsen</td>\n",
       "      <td>Cancellation Confirmation</td>\n",
       "    </tr>\n",
       "    <tr>\n",
       "      <th>9</th>\n",
       "      <td>51</td>\n",
       "      <td>Cancelled</td>\n",
       "      <td>paid</td>\n",
       "      <td>Ethan</td>\n",
       "      <td>Johnson</td>\n",
       "      <td>Cancellation Confirmation</td>\n",
       "    </tr>\n",
       "    <tr>\n",
       "      <th>10</th>\n",
       "      <td>87</td>\n",
       "      <td>Cancelled</td>\n",
       "      <td>paid</td>\n",
       "      <td>Christian</td>\n",
       "      <td>Robinson</td>\n",
       "      <td>Cancellation Confirmation</td>\n",
       "    </tr>\n",
       "    <tr>\n",
       "      <th>11</th>\n",
       "      <td>122</td>\n",
       "      <td>Cancelled</td>\n",
       "      <td>paid</td>\n",
       "      <td>Molly</td>\n",
       "      <td>Patterson</td>\n",
       "      <td>Cancellation Confirmation</td>\n",
       "    </tr>\n",
       "    <tr>\n",
       "      <th>12</th>\n",
       "      <td>12</td>\n",
       "      <td>Cancelled</td>\n",
       "      <td>paid</td>\n",
       "      <td>Sophia</td>\n",
       "      <td>Perry</td>\n",
       "      <td>Cancellation Confirmation</td>\n",
       "    </tr>\n",
       "    <tr>\n",
       "      <th>13</th>\n",
       "      <td>58</td>\n",
       "      <td>Cancelled</td>\n",
       "      <td>paid</td>\n",
       "      <td>Erick</td>\n",
       "      <td>Brooks</td>\n",
       "      <td>Cancellation Confirmation</td>\n",
       "    </tr>\n",
       "    <tr>\n",
       "      <th>14</th>\n",
       "      <td>73</td>\n",
       "      <td>Cancelled</td>\n",
       "      <td>paid</td>\n",
       "      <td>Rachel</td>\n",
       "      <td>Bailey</td>\n",
       "      <td>Cancellation Confirmation</td>\n",
       "    </tr>\n",
       "    <tr>\n",
       "      <th>15</th>\n",
       "      <td>3</td>\n",
       "      <td>Cancelled</td>\n",
       "      <td>paid</td>\n",
       "      <td>Jeffery</td>\n",
       "      <td>Wheeler</td>\n",
       "      <td>Cancellation Confirmation</td>\n",
       "    </tr>\n",
       "    <tr>\n",
       "      <th>16</th>\n",
       "      <td>106</td>\n",
       "      <td>Cancelled</td>\n",
       "      <td>paid</td>\n",
       "      <td>Sophia</td>\n",
       "      <td>Key</td>\n",
       "      <td>Cancellation Confirmation</td>\n",
       "    </tr>\n",
       "    <tr>\n",
       "      <th>17</th>\n",
       "      <td>103</td>\n",
       "      <td>Cancelled</td>\n",
       "      <td>paid</td>\n",
       "      <td>Piper</td>\n",
       "      <td>Nielsen</td>\n",
       "      <td>Cancellation Confirmation</td>\n",
       "    </tr>\n",
       "    <tr>\n",
       "      <th>18</th>\n",
       "      <td>28</td>\n",
       "      <td>Cancelled</td>\n",
       "      <td>paid</td>\n",
       "      <td>Teagan</td>\n",
       "      <td>Roberts</td>\n",
       "      <td>Cancellation Confirmation</td>\n",
       "    </tr>\n",
       "    <tr>\n",
       "      <th>19</th>\n",
       "      <td>54</td>\n",
       "      <td>Cancelled</td>\n",
       "      <td>paid</td>\n",
       "      <td>Alexi</td>\n",
       "      <td>Warren</td>\n",
       "      <td>Cancellation Confirmation</td>\n",
       "    </tr>\n",
       "    <tr>\n",
       "      <th>20</th>\n",
       "      <td>29</td>\n",
       "      <td>Cancelled</td>\n",
       "      <td>paid</td>\n",
       "      <td>Kaleb</td>\n",
       "      <td>Thompson</td>\n",
       "      <td>Cancellation Confirmation</td>\n",
       "    </tr>\n",
       "    <tr>\n",
       "      <th>21</th>\n",
       "      <td>70</td>\n",
       "      <td>Cancelled</td>\n",
       "      <td>paid</td>\n",
       "      <td>Chayse</td>\n",
       "      <td>Keller</td>\n",
       "      <td>Cancellation Confirmation</td>\n",
       "    </tr>\n",
       "    <tr>\n",
       "      <th>22</th>\n",
       "      <td>53</td>\n",
       "      <td>Cancelled</td>\n",
       "      <td>paid</td>\n",
       "      <td>Sebastian</td>\n",
       "      <td>Wang</td>\n",
       "      <td>Cancellation Confirmation</td>\n",
       "    </tr>\n",
       "    <tr>\n",
       "      <th>23</th>\n",
       "      <td>100011</td>\n",
       "      <td>Cancelled</td>\n",
       "      <td>free</td>\n",
       "      <td>Sebastian</td>\n",
       "      <td>Ball</td>\n",
       "      <td>Cancellation Confirmation</td>\n",
       "    </tr>\n",
       "    <tr>\n",
       "      <th>24</th>\n",
       "      <td>100001</td>\n",
       "      <td>Cancelled</td>\n",
       "      <td>free</td>\n",
       "      <td>Delaney</td>\n",
       "      <td>Perez</td>\n",
       "      <td>Cancellation Confirmation</td>\n",
       "    </tr>\n",
       "    <tr>\n",
       "      <th>25</th>\n",
       "      <td>100024</td>\n",
       "      <td>Cancelled</td>\n",
       "      <td>free</td>\n",
       "      <td>Jonathon</td>\n",
       "      <td>Miller</td>\n",
       "      <td>Cancellation Confirmation</td>\n",
       "    </tr>\n",
       "    <tr>\n",
       "      <th>26</th>\n",
       "      <td>100006</td>\n",
       "      <td>Cancelled</td>\n",
       "      <td>free</td>\n",
       "      <td>Leyla</td>\n",
       "      <td>Barnes</td>\n",
       "      <td>Cancellation Confirmation</td>\n",
       "    </tr>\n",
       "    <tr>\n",
       "      <th>27</th>\n",
       "      <td>100019</td>\n",
       "      <td>Cancelled</td>\n",
       "      <td>free</td>\n",
       "      <td>Angel</td>\n",
       "      <td>Jacobs</td>\n",
       "      <td>Cancellation Confirmation</td>\n",
       "    </tr>\n",
       "    <tr>\n",
       "      <th>28</th>\n",
       "      <td>100003</td>\n",
       "      <td>Cancelled</td>\n",
       "      <td>free</td>\n",
       "      <td>Nevaeh</td>\n",
       "      <td>Jones</td>\n",
       "      <td>Cancellation Confirmation</td>\n",
       "    </tr>\n",
       "    <tr>\n",
       "      <th>29</th>\n",
       "      <td>100023</td>\n",
       "      <td>Cancelled</td>\n",
       "      <td>paid</td>\n",
       "      <td>Sawyer</td>\n",
       "      <td>Nelson</td>\n",
       "      <td>Cancellation Confirmation</td>\n",
       "    </tr>\n",
       "    <tr>\n",
       "      <th>30</th>\n",
       "      <td>100005</td>\n",
       "      <td>Cancelled</td>\n",
       "      <td>free</td>\n",
       "      <td>Cason</td>\n",
       "      <td>Smith</td>\n",
       "      <td>Cancellation Confirmation</td>\n",
       "    </tr>\n",
       "    <tr>\n",
       "      <th>31</th>\n",
       "      <td>100017</td>\n",
       "      <td>Cancelled</td>\n",
       "      <td>free</td>\n",
       "      <td>James</td>\n",
       "      <td>Mann</td>\n",
       "      <td>Cancellation Confirmation</td>\n",
       "    </tr>\n",
       "    <tr>\n",
       "      <th>32</th>\n",
       "      <td>100025</td>\n",
       "      <td>Cancelled</td>\n",
       "      <td>free</td>\n",
       "      <td>London</td>\n",
       "      <td>Diaz</td>\n",
       "      <td>Cancellation Confirmation</td>\n",
       "    </tr>\n",
       "    <tr>\n",
       "      <th>33</th>\n",
       "      <td>100009</td>\n",
       "      <td>Cancelled</td>\n",
       "      <td>free</td>\n",
       "      <td>Troy</td>\n",
       "      <td>Mathis</td>\n",
       "      <td>Cancellation Confirmation</td>\n",
       "    </tr>\n",
       "    <tr>\n",
       "      <th>34</th>\n",
       "      <td>100012</td>\n",
       "      <td>Cancelled</td>\n",
       "      <td>free</td>\n",
       "      <td>Daniel</td>\n",
       "      <td>Marks</td>\n",
       "      <td>Cancellation Confirmation</td>\n",
       "    </tr>\n",
       "    <tr>\n",
       "      <th>35</th>\n",
       "      <td>100013</td>\n",
       "      <td>Cancelled</td>\n",
       "      <td>paid</td>\n",
       "      <td>Cali</td>\n",
       "      <td>Brown</td>\n",
       "      <td>Cancellation Confirmation</td>\n",
       "    </tr>\n",
       "    <tr>\n",
       "      <th>36</th>\n",
       "      <td>100022</td>\n",
       "      <td>Cancelled</td>\n",
       "      <td>free</td>\n",
       "      <td>Mahi</td>\n",
       "      <td>Robinson</td>\n",
       "      <td>Cancellation Confirmation</td>\n",
       "    </tr>\n",
       "    <tr>\n",
       "      <th>37</th>\n",
       "      <td>100014</td>\n",
       "      <td>Cancelled</td>\n",
       "      <td>paid</td>\n",
       "      <td>Rodrigo</td>\n",
       "      <td>Carey</td>\n",
       "      <td>Cancellation Confirmation</td>\n",
       "    </tr>\n",
       "    <tr>\n",
       "      <th>38</th>\n",
       "      <td>100015</td>\n",
       "      <td>Cancelled</td>\n",
       "      <td>paid</td>\n",
       "      <td>Tina</td>\n",
       "      <td>Thompson</td>\n",
       "      <td>Cancellation Confirmation</td>\n",
       "    </tr>\n",
       "    <tr>\n",
       "      <th>39</th>\n",
       "      <td>100021</td>\n",
       "      <td>Cancelled</td>\n",
       "      <td>free</td>\n",
       "      <td>Rayden</td>\n",
       "      <td>Phillips</td>\n",
       "      <td>Cancellation Confirmation</td>\n",
       "    </tr>\n",
       "    <tr>\n",
       "      <th>40</th>\n",
       "      <td>100007</td>\n",
       "      <td>Cancelled</td>\n",
       "      <td>paid</td>\n",
       "      <td>Piper</td>\n",
       "      <td>Cook</td>\n",
       "      <td>Cancellation Confirmation</td>\n",
       "    </tr>\n",
       "    <tr>\n",
       "      <th>41</th>\n",
       "      <td>200001</td>\n",
       "      <td>Cancelled</td>\n",
       "      <td>free</td>\n",
       "      <td>Reece</td>\n",
       "      <td>Moore</td>\n",
       "      <td>Cancellation Confirmation</td>\n",
       "    </tr>\n",
       "    <tr>\n",
       "      <th>42</th>\n",
       "      <td>200024</td>\n",
       "      <td>Cancelled</td>\n",
       "      <td>paid</td>\n",
       "      <td>Isaiah</td>\n",
       "      <td>Gomez</td>\n",
       "      <td>Cancellation Confirmation</td>\n",
       "    </tr>\n",
       "    <tr>\n",
       "      <th>43</th>\n",
       "      <td>200011</td>\n",
       "      <td>Cancelled</td>\n",
       "      <td>free</td>\n",
       "      <td>Charles</td>\n",
       "      <td>Harper</td>\n",
       "      <td>Cancellation Confirmation</td>\n",
       "    </tr>\n",
       "    <tr>\n",
       "      <th>44</th>\n",
       "      <td>200021</td>\n",
       "      <td>Cancelled</td>\n",
       "      <td>paid</td>\n",
       "      <td>Liliana</td>\n",
       "      <td>Owen</td>\n",
       "      <td>Cancellation Confirmation</td>\n",
       "    </tr>\n",
       "    <tr>\n",
       "      <th>45</th>\n",
       "      <td>200018</td>\n",
       "      <td>Cancelled</td>\n",
       "      <td>free</td>\n",
       "      <td>Saulo</td>\n",
       "      <td>Burgess</td>\n",
       "      <td>Cancellation Confirmation</td>\n",
       "    </tr>\n",
       "    <tr>\n",
       "      <th>46</th>\n",
       "      <td>200015</td>\n",
       "      <td>Cancelled</td>\n",
       "      <td>free</td>\n",
       "      <td>Connor</td>\n",
       "      <td>Mendoza</td>\n",
       "      <td>Cancellation Confirmation</td>\n",
       "    </tr>\n",
       "    <tr>\n",
       "      <th>47</th>\n",
       "      <td>200017</td>\n",
       "      <td>Cancelled</td>\n",
       "      <td>paid</td>\n",
       "      <td>James</td>\n",
       "      <td>Dickerson</td>\n",
       "      <td>Cancellation Confirmation</td>\n",
       "    </tr>\n",
       "    <tr>\n",
       "      <th>48</th>\n",
       "      <td>200016</td>\n",
       "      <td>Cancelled</td>\n",
       "      <td>free</td>\n",
       "      <td>Charlotte</td>\n",
       "      <td>Frazier</td>\n",
       "      <td>Cancellation Confirmation</td>\n",
       "    </tr>\n",
       "    <tr>\n",
       "      <th>49</th>\n",
       "      <td>200020</td>\n",
       "      <td>Cancelled</td>\n",
       "      <td>free</td>\n",
       "      <td>Keegan</td>\n",
       "      <td>Rivera</td>\n",
       "      <td>Cancellation Confirmation</td>\n",
       "    </tr>\n",
       "    <tr>\n",
       "      <th>50</th>\n",
       "      <td>300007</td>\n",
       "      <td>Cancelled</td>\n",
       "      <td>paid</td>\n",
       "      <td>Lucas</td>\n",
       "      <td>Franklin</td>\n",
       "      <td>Cancellation Confirmation</td>\n",
       "    </tr>\n",
       "    <tr>\n",
       "      <th>51</th>\n",
       "      <td>300001</td>\n",
       "      <td>Cancelled</td>\n",
       "      <td>paid</td>\n",
       "      <td>Antonina</td>\n",
       "      <td>Kennedy</td>\n",
       "      <td>Cancellation Confirmation</td>\n",
       "    </tr>\n",
       "  </tbody>\n",
       "</table>\n",
       "</div>"
      ],
      "text/plain": [
       "    userID       auth level  firstname   lastname                       page\n",
       "0       18  Cancelled  paid     Adriel    Mendoza  Cancellation Confirmation\n",
       "1       32  Cancelled  paid      Diego      Mckee  Cancellation Confirmation\n",
       "2      125  Cancelled  free      Mason       Hart  Cancellation Confirmation\n",
       "3      105  Cancelled  paid  Alexander     Garcia  Cancellation Confirmation\n",
       "4       17  Cancelled  paid      Kayla    Johnson  Cancellation Confirmation\n",
       "5      143  Cancelled  free      Molly   Harrison  Cancellation Confirmation\n",
       "6      101  Cancelled  paid       Alex      Hogan  Cancellation Confirmation\n",
       "7      129  Cancelled  paid      Davis       Wang  Cancellation Confirmation\n",
       "8      121  Cancelled  paid    Nikolas      Olsen  Cancellation Confirmation\n",
       "9       51  Cancelled  paid      Ethan    Johnson  Cancellation Confirmation\n",
       "10      87  Cancelled  paid  Christian   Robinson  Cancellation Confirmation\n",
       "11     122  Cancelled  paid      Molly  Patterson  Cancellation Confirmation\n",
       "12      12  Cancelled  paid     Sophia      Perry  Cancellation Confirmation\n",
       "13      58  Cancelled  paid      Erick     Brooks  Cancellation Confirmation\n",
       "14      73  Cancelled  paid     Rachel     Bailey  Cancellation Confirmation\n",
       "15       3  Cancelled  paid    Jeffery    Wheeler  Cancellation Confirmation\n",
       "16     106  Cancelled  paid     Sophia        Key  Cancellation Confirmation\n",
       "17     103  Cancelled  paid      Piper    Nielsen  Cancellation Confirmation\n",
       "18      28  Cancelled  paid     Teagan    Roberts  Cancellation Confirmation\n",
       "19      54  Cancelled  paid      Alexi     Warren  Cancellation Confirmation\n",
       "20      29  Cancelled  paid      Kaleb   Thompson  Cancellation Confirmation\n",
       "21      70  Cancelled  paid     Chayse     Keller  Cancellation Confirmation\n",
       "22      53  Cancelled  paid  Sebastian       Wang  Cancellation Confirmation\n",
       "23  100011  Cancelled  free  Sebastian       Ball  Cancellation Confirmation\n",
       "24  100001  Cancelled  free    Delaney      Perez  Cancellation Confirmation\n",
       "25  100024  Cancelled  free   Jonathon     Miller  Cancellation Confirmation\n",
       "26  100006  Cancelled  free      Leyla     Barnes  Cancellation Confirmation\n",
       "27  100019  Cancelled  free      Angel     Jacobs  Cancellation Confirmation\n",
       "28  100003  Cancelled  free     Nevaeh      Jones  Cancellation Confirmation\n",
       "29  100023  Cancelled  paid     Sawyer     Nelson  Cancellation Confirmation\n",
       "30  100005  Cancelled  free      Cason      Smith  Cancellation Confirmation\n",
       "31  100017  Cancelled  free      James       Mann  Cancellation Confirmation\n",
       "32  100025  Cancelled  free     London       Diaz  Cancellation Confirmation\n",
       "33  100009  Cancelled  free       Troy     Mathis  Cancellation Confirmation\n",
       "34  100012  Cancelled  free     Daniel      Marks  Cancellation Confirmation\n",
       "35  100013  Cancelled  paid       Cali      Brown  Cancellation Confirmation\n",
       "36  100022  Cancelled  free       Mahi   Robinson  Cancellation Confirmation\n",
       "37  100014  Cancelled  paid    Rodrigo      Carey  Cancellation Confirmation\n",
       "38  100015  Cancelled  paid       Tina   Thompson  Cancellation Confirmation\n",
       "39  100021  Cancelled  free     Rayden   Phillips  Cancellation Confirmation\n",
       "40  100007  Cancelled  paid      Piper       Cook  Cancellation Confirmation\n",
       "41  200001  Cancelled  free      Reece      Moore  Cancellation Confirmation\n",
       "42  200024  Cancelled  paid     Isaiah      Gomez  Cancellation Confirmation\n",
       "43  200011  Cancelled  free    Charles     Harper  Cancellation Confirmation\n",
       "44  200021  Cancelled  paid    Liliana       Owen  Cancellation Confirmation\n",
       "45  200018  Cancelled  free      Saulo    Burgess  Cancellation Confirmation\n",
       "46  200015  Cancelled  free     Connor    Mendoza  Cancellation Confirmation\n",
       "47  200017  Cancelled  paid      James  Dickerson  Cancellation Confirmation\n",
       "48  200016  Cancelled  free  Charlotte    Frazier  Cancellation Confirmation\n",
       "49  200020  Cancelled  free     Keegan     Rivera  Cancellation Confirmation\n",
       "50  300007  Cancelled  paid      Lucas   Franklin  Cancellation Confirmation\n",
       "51  300001  Cancelled  paid   Antonina    Kennedy  Cancellation Confirmation"
      ]
     },
     "execution_count": 30,
     "metadata": {},
     "output_type": "execute_result"
    }
   ],
   "source": [
    "data_cancelled"
   ]
  },
  {
   "cell_type": "code",
   "execution_count": 31,
   "metadata": {},
   "outputs": [],
   "source": [
    "#Create indicatorflag for churn event\n",
    "#Create own Lambda function for churn event\n",
    "\n",
    "indicator = udf(lambda x: 1 if x==\"Cancellation Confirmation\" else 0, IntegerType())\n"
   ]
  },
  {
   "cell_type": "code",
   "execution_count": 32,
   "metadata": {},
   "outputs": [],
   "source": [
    "data_clean = data_clean.withColumn(\"churned\", indicator(\"page\"))"
   ]
  },
  {
   "cell_type": "code",
   "execution_count": 33,
   "metadata": {
    "scrolled": true
   },
   "outputs": [
    {
     "name": "stdout",
     "output_type": "stream",
     "text": [
      "+-------+--------------------+\n",
      "|summary|             churned|\n",
      "+-------+--------------------+\n",
      "|  count|              278154|\n",
      "|   mean|1.869467992550889E-4|\n",
      "| stddev|0.013671595449116164|\n",
      "|    min|                   0|\n",
      "|    max|                   1|\n",
      "+-------+--------------------+\n",
      "\n"
     ]
    }
   ],
   "source": [
    "data_clean.describe(\"churned\").show()"
   ]
  },
  {
   "cell_type": "code",
   "execution_count": 36,
   "metadata": {},
   "outputs": [],
   "source": [
    "#Update temporary view\n",
    "data_clean.createOrReplaceTempView(\"user_logs\")"
   ]
  },
  {
   "cell_type": "code",
   "execution_count": 37,
   "metadata": {
    "scrolled": false
   },
   "outputs": [
    {
     "name": "stdout",
     "output_type": "stream",
     "text": [
      "+------+---------+-----+---------+--------+--------------------+-------+\n",
      "|userID|     auth|level|firstname|lastname|                page|churned|\n",
      "+------+---------+-----+---------+--------+--------------------+-------+\n",
      "|    18|Cancelled| paid|   Adriel| Mendoza|Cancellation Conf...|      1|\n",
      "|    32|Cancelled| paid|    Diego|   Mckee|Cancellation Conf...|      1|\n",
      "|   125|Cancelled| free|    Mason|    Hart|Cancellation Conf...|      1|\n",
      "|   105|Cancelled| paid|Alexander|  Garcia|Cancellation Conf...|      1|\n",
      "|    17|Cancelled| paid|    Kayla| Johnson|Cancellation Conf...|      1|\n",
      "+------+---------+-----+---------+--------+--------------------+-------+\n",
      "only showing top 5 rows\n",
      "\n"
     ]
    }
   ],
   "source": [
    "spark.sql(\"\"\"\n",
    "    SELECT userID, auth, level, firstname, lastname, page, churned\n",
    "    FROM user_logs\n",
    "    WHERE churned == '1'\n",
    "    \"\"\").show(5)"
   ]
  },
  {
   "cell_type": "code",
   "execution_count": null,
   "metadata": {},
   "outputs": [],
   "source": [
    "#"
   ]
  },
  {
   "cell_type": "code",
   "execution_count": null,
   "metadata": {},
   "outputs": [],
   "source": []
  },
  {
   "cell_type": "code",
   "execution_count": null,
   "metadata": {},
   "outputs": [],
   "source": []
  },
  {
   "cell_type": "code",
   "execution_count": null,
   "metadata": {},
   "outputs": [],
   "source": []
  },
  {
   "cell_type": "markdown",
   "metadata": {},
   "source": [
    "# Feature Engineering\n",
    "Once you've familiarized yourself with the data, build out the features you find promising to train your model on. To work with the full dataset, you can follow the following steps.\n",
    "- Write a script to extract the necessary features from the smaller subset of data\n",
    "- Ensure that your script is scalable, using the best practices discussed in Lesson 3\n",
    "- Try your script on the full data set, debugging your script if necessary\n",
    "\n",
    "If you are working in the classroom workspace, you can just extract features based on the small subset of data contained here. Be sure to transfer over this work to the larger dataset when you work on your Spark cluster."
   ]
  },
  {
   "cell_type": "code",
   "execution_count": 85,
   "metadata": {},
   "outputs": [],
   "source": [
    "csv_path = \"features.csv\""
   ]
  },
  {
   "cell_type": "code",
   "execution_count": 86,
   "metadata": {},
   "outputs": [],
   "source": [
    "#Save to outputfile\n",
    "user.write.mode(\"overwrite\").save(csv_path, format=\"csv\", header=True)"
   ]
  },
  {
   "cell_type": "code",
   "execution_count": null,
   "metadata": {},
   "outputs": [],
   "source": [
    "\n",
    "# https://stackoverflow.com/questions/56927329/spark-option-inferschema-vs-header-true\n",
    "# Use inferSchema to retrieve correct data types and not only strings\n",
    "data = spark.read.csv(csv_path, header=True, inferSchema=True)"
   ]
  },
  {
   "cell_type": "markdown",
   "metadata": {},
   "source": [
    "# Modeling\n",
    "Split the full dataset into train, test, and validation sets. Test out several of the machine learning methods you learned. Evaluate the accuracy of the various models, tuning parameters as necessary. Determine your winning model based on test accuracy and report results on the validation set. Since the churned users are a fairly small subset, I suggest using F1 score as the metric to optimize."
   ]
  },
  {
   "cell_type": "code",
   "execution_count": null,
   "metadata": {},
   "outputs": [],
   "source": []
  },
  {
   "cell_type": "markdown",
   "metadata": {},
   "source": [
    "# Final Steps\n",
    "Clean up your code, adding comments and renaming variables to make the code easier to read and maintain. Refer to the Spark Project Overview page and Data Scientist Capstone Project Rubric to make sure you are including all components of the capstone project and meet all expectations. Remember, this includes thorough documentation in a README file in a Github repository, as well as a web app or blog post."
   ]
  },
  {
   "cell_type": "code",
   "execution_count": null,
   "metadata": {},
   "outputs": [],
   "source": []
  }
 ],
 "metadata": {
  "kernelspec": {
   "display_name": "Python 3",
   "language": "python",
   "name": "python3"
  },
  "language_info": {
   "codemirror_mode": {
    "name": "ipython",
    "version": 3
   },
   "file_extension": ".py",
   "mimetype": "text/x-python",
   "name": "python",
   "nbconvert_exporter": "python",
   "pygments_lexer": "ipython3",
   "version": "3.6.3"
  }
 },
 "nbformat": 4,
 "nbformat_minor": 2
}
